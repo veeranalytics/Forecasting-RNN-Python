{
 "cells": [
  {
   "cell_type": "code",
   "execution_count": 115,
   "metadata": {},
   "outputs": [],
   "source": [
    "# Import Libraries\n",
    "import pandas as pd\n",
    "import numpy as np\n",
    "import math\n",
    "from keras.models import Sequential\n",
    "from keras.layers import Dense\n",
    "from keras.layers import LSTM\n",
    "from sklearn.preprocessing import MinMaxScaler\n",
    "from sklearn.metrics import mean_squared_error\n",
    "import matplotlib.pyplot as plt"
   ]
  },
  {
   "cell_type": "code",
   "execution_count": 170,
   "metadata": {},
   "outputs": [],
   "source": [
    "# Get Data\n",
    "df = pd.read_csv(\"https://raw.githubusercontent.com/veeranalytics/Forecasting-RNN-Python/master/Sales_Data.csv\", usecols=[1], engine='python')"
   ]
  },
  {
   "cell_type": "code",
   "execution_count": 171,
   "metadata": {},
   "outputs": [
    {
     "data": {
      "text/html": [
       "<div>\n",
       "<style scoped>\n",
       "    .dataframe tbody tr th:only-of-type {\n",
       "        vertical-align: middle;\n",
       "    }\n",
       "\n",
       "    .dataframe tbody tr th {\n",
       "        vertical-align: top;\n",
       "    }\n",
       "\n",
       "    .dataframe thead th {\n",
       "        text-align: right;\n",
       "    }\n",
       "</style>\n",
       "<table border=\"1\" class=\"dataframe\">\n",
       "  <thead>\n",
       "    <tr style=\"text-align: right;\">\n",
       "      <th></th>\n",
       "      <th>Sales</th>\n",
       "    </tr>\n",
       "  </thead>\n",
       "  <tbody>\n",
       "    <tr>\n",
       "      <th>0</th>\n",
       "      <td>112</td>\n",
       "    </tr>\n",
       "    <tr>\n",
       "      <th>1</th>\n",
       "      <td>118</td>\n",
       "    </tr>\n",
       "    <tr>\n",
       "      <th>2</th>\n",
       "      <td>132</td>\n",
       "    </tr>\n",
       "    <tr>\n",
       "      <th>3</th>\n",
       "      <td>129</td>\n",
       "    </tr>\n",
       "    <tr>\n",
       "      <th>4</th>\n",
       "      <td>121</td>\n",
       "    </tr>\n",
       "  </tbody>\n",
       "</table>\n",
       "</div>"
      ],
      "text/plain": [
       "   Sales\n",
       "0    112\n",
       "1    118\n",
       "2    132\n",
       "3    129\n",
       "4    121"
      ]
     },
     "execution_count": 171,
     "metadata": {},
     "output_type": "execute_result"
    }
   ],
   "source": [
    "# Get a look at the dataset\n",
    "df.head()"
   ]
  },
  {
   "cell_type": "code",
   "execution_count": 172,
   "metadata": {},
   "outputs": [
    {
     "data": {
      "image/png": "[encoded data removed]",
      "text/plain": [
       "<matplotlib.figure.Figure at 0x2ee79630c50>"
      ]
     },
     "metadata": {},
     "output_type": "display_data"
    }
   ],
   "source": [
    "# Explore Trend of the data\n",
    "plt.plot(df)\n",
    "plt.show()"
   ]
  },
  {
   "cell_type": "code",
   "execution_count": 174,
   "metadata": {},
   "outputs": [
    {
     "data": {
      "text/plain": [
       "numpy.ndarray"
      ]
     },
     "execution_count": 174,
     "metadata": {},
     "output_type": "execute_result"
    }
   ],
   "source": [
    "# Convert data frame into float arrays\n",
    "data = df.values\n",
    "data = data.astype('float32')\n",
    "\n",
    "# Check the type of data\n",
    "type(data)"
   ]
  },
  {
   "cell_type": "code",
   "execution_count": 175,
   "metadata": {},
   "outputs": [],
   "source": [
    "# Set seed for reproducibility\n",
    "np.random.seed(123)"
   ]
  },
  {
   "cell_type": "code",
   "execution_count": 176,
   "metadata": {},
   "outputs": [],
   "source": [
    "# Normalize the dataset\n",
    "scaler = MinMaxScaler(feature_range=(0, 1))\n",
    "data = scaler.fit_transform(data)"
   ]
  },
  {
   "cell_type": "code",
   "execution_count": 181,
   "metadata": {},
   "outputs": [
    {
     "name": "stdout",
     "output_type": "stream",
     "text": [
      "119 25\n"
     ]
    }
   ],
   "source": [
    "# Split data into train and test sets\n",
    "# As sequence is important keeping data for the first 29 periods in training dataset\n",
    "# The reamining 07 periods are in the test dataset\n",
    "train_size = int(len(data) * 0.83)\n",
    "test_size = len(data) - train_size\n",
    "train, test = data[0:train_size,:], data[train_size:len(data),:]\n",
    "print(len(train), len(test))"
   ]
  },
  {
   "cell_type": "code",
   "execution_count": 192,
   "metadata": {},
   "outputs": [],
   "source": [
    "# Convert an array of values into a dataset matrix\n",
    "def create_dataset(dataset, look_back=1):\n",
    "    dataX, dataY = [], []\n",
    "    for i in range(len(dataset)-look_back-1):\n",
    "        a = dataset[i:(i+look_back), 0]\n",
    "        dataX.append(a)\n",
    "        dataY.append(dataset[i + look_back, 0])\n",
    "    return np.array(dataX), np.array(dataY)"
   ]
  },
  {
   "cell_type": "code",
   "execution_count": 193,
   "metadata": {},
   "outputs": [],
   "source": [
    "# Reshape into X=t and Y=t+1\n",
    "look_back = 1 # Can Change accordingly to requirement\n",
    "X_train, y_train = create_dataset(train, look_back)\n",
    "X_test, y_test = create_dataset(test, look_back)"
   ]
  },
  {
   "cell_type": "code",
   "execution_count": 194,
   "metadata": {},
   "outputs": [],
   "source": [
    "# Reshape input to be [samples, time steps, features]\n",
    "X_train = np.reshape(X_train, (X_train.shape[0], 1, X_train.shape[1]))\n",
    "X_test = np.reshape(X_test, (X_test.shape[0], 1, X_test.shape[1]))"
   ]
  },
  {
   "cell_type": "code",
   "execution_count": 195,
   "metadata": {},
   "outputs": [
    {
     "name": "stdout",
     "output_type": "stream",
     "text": [
      "Epoch 1/100\n",
      " - 1s - loss: 0.0738\n",
      "Epoch 2/100\n",
      " - 0s - loss: 0.0335\n",
      "Epoch 3/100\n",
      " - 0s - loss: 0.0248\n",
      "Epoch 4/100\n",
      " - 0s - loss: 0.0223\n",
      "Epoch 5/100\n",
      " - 0s - loss: 0.0199\n",
      "Epoch 6/100\n",
      " - 0s - loss: 0.0175\n",
      "Epoch 7/100\n",
      " - 0s - loss: 0.0151\n",
      "Epoch 8/100\n",
      " - 0s - loss: 0.0128\n",
      "Epoch 9/100\n",
      " - 0s - loss: 0.0107\n",
      "Epoch 10/100\n",
      " - 0s - loss: 0.0089\n",
      "Epoch 11/100\n",
      " - 0s - loss: 0.0073\n",
      "Epoch 12/100\n",
      " - 0s - loss: 0.0060\n",
      "Epoch 13/100\n",
      " - 0s - loss: 0.0050\n",
      "Epoch 14/100\n",
      " - 0s - loss: 0.0043\n",
      "Epoch 15/100\n",
      " - 0s - loss: 0.0038\n",
      "Epoch 16/100\n",
      " - 0s - loss: 0.0035\n",
      "Epoch 17/100\n",
      " - 0s - loss: 0.0033\n",
      "Epoch 18/100\n",
      " - 0s - loss: 0.0032\n",
      "Epoch 19/100\n",
      " - 0s - loss: 0.0031\n",
      "Epoch 20/100\n",
      " - 0s - loss: 0.0032\n",
      "Epoch 21/100\n",
      " - 0s - loss: 0.0031\n",
      "Epoch 22/100\n",
      " - 0s - loss: 0.0030\n",
      "Epoch 23/100\n",
      " - 0s - loss: 0.0031\n",
      "Epoch 24/100\n",
      " - 0s - loss: 0.0030\n",
      "Epoch 25/100\n",
      " - 0s - loss: 0.0030\n",
      "Epoch 26/100\n",
      " - 0s - loss: 0.0031\n",
      "Epoch 27/100\n",
      " - 0s - loss: 0.0030\n",
      "Epoch 28/100\n",
      " - 0s - loss: 0.0031\n",
      "Epoch 29/100\n",
      " - 0s - loss: 0.0030\n",
      "Epoch 30/100\n",
      " - 0s - loss: 0.0031\n",
      "Epoch 31/100\n",
      " - 0s - loss: 0.0031\n",
      "Epoch 32/100\n",
      " - 0s - loss: 0.0030\n",
      "Epoch 33/100\n",
      " - 0s - loss: 0.0030\n",
      "Epoch 34/100\n",
      " - 0s - loss: 0.0032\n",
      "Epoch 35/100\n",
      " - 0s - loss: 0.0030\n",
      "Epoch 36/100\n",
      " - 0s - loss: 0.0030\n",
      "Epoch 37/100\n",
      " - 0s - loss: 0.0031\n",
      "Epoch 38/100\n",
      " - 0s - loss: 0.0031\n",
      "Epoch 39/100\n",
      " - 0s - loss: 0.0030\n",
      "Epoch 40/100\n",
      " - 0s - loss: 0.0030\n",
      "Epoch 41/100\n",
      " - 0s - loss: 0.0030\n",
      "Epoch 42/100\n",
      " - 0s - loss: 0.0030\n",
      "Epoch 43/100\n",
      " - 0s - loss: 0.0030\n",
      "Epoch 44/100\n",
      " - 0s - loss: 0.0031\n",
      "Epoch 45/100\n",
      " - 0s - loss: 0.0030\n",
      "Epoch 46/100\n",
      " - 0s - loss: 0.0030\n",
      "Epoch 47/100\n",
      " - 0s - loss: 0.0030\n",
      "Epoch 48/100\n",
      " - 0s - loss: 0.0031\n",
      "Epoch 49/100\n",
      " - 0s - loss: 0.0030\n",
      "Epoch 50/100\n",
      " - 0s - loss: 0.0030\n",
      "Epoch 51/100\n",
      " - 0s - loss: 0.0030\n",
      "Epoch 52/100\n",
      " - 0s - loss: 0.0030\n",
      "Epoch 53/100\n",
      " - 0s - loss: 0.0030\n",
      "Epoch 54/100\n",
      " - 0s - loss: 0.0031\n",
      "Epoch 55/100\n",
      " - 0s - loss: 0.0030\n",
      "Epoch 56/100\n",
      " - 0s - loss: 0.0030\n",
      "Epoch 57/100\n",
      " - 0s - loss: 0.0030\n",
      "Epoch 58/100\n",
      " - 0s - loss: 0.0031\n",
      "Epoch 59/100\n",
      " - 0s - loss: 0.0030\n",
      "Epoch 60/100\n",
      " - 0s - loss: 0.0030\n",
      "Epoch 61/100\n",
      " - 0s - loss: 0.0030\n",
      "Epoch 62/100\n",
      " - 0s - loss: 0.0031\n",
      "Epoch 63/100\n",
      " - 0s - loss: 0.0030\n",
      "Epoch 64/100\n",
      " - 0s - loss: 0.0030\n",
      "Epoch 65/100\n",
      " - 0s - loss: 0.0030\n",
      "Epoch 66/100\n",
      " - 0s - loss: 0.0030\n",
      "Epoch 67/100\n",
      " - 0s - loss: 0.0031\n",
      "Epoch 68/100\n",
      " - 0s - loss: 0.0030\n",
      "Epoch 69/100\n",
      " - 0s - loss: 0.0030\n",
      "Epoch 70/100\n",
      " - 0s - loss: 0.0030\n",
      "Epoch 71/100\n",
      " - 0s - loss: 0.0030\n",
      "Epoch 72/100\n",
      " - 0s - loss: 0.0030\n",
      "Epoch 73/100\n",
      " - 0s - loss: 0.0031\n",
      "Epoch 74/100\n",
      " - 0s - loss: 0.0029\n",
      "Epoch 75/100\n",
      " - 0s - loss: 0.0030\n",
      "Epoch 76/100\n",
      " - 0s - loss: 0.0030\n",
      "Epoch 77/100\n",
      " - 0s - loss: 0.0031\n",
      "Epoch 78/100\n",
      " - 0s - loss: 0.0030\n",
      "Epoch 79/100\n",
      " - 0s - loss: 0.0030\n",
      "Epoch 80/100\n",
      " - 0s - loss: 0.0031\n",
      "Epoch 81/100\n",
      " - 0s - loss: 0.0030\n",
      "Epoch 82/100\n",
      " - 0s - loss: 0.0030\n",
      "Epoch 83/100\n",
      " - 0s - loss: 0.0030\n",
      "Epoch 84/100\n",
      " - 0s - loss: 0.0030\n",
      "Epoch 85/100\n",
      " - 0s - loss: 0.0029\n",
      "Epoch 86/100\n",
      " - 0s - loss: 0.0031\n",
      "Epoch 87/100\n",
      " - 0s - loss: 0.0030\n",
      "Epoch 88/100\n",
      " - 0s - loss: 0.0030\n",
      "Epoch 89/100\n",
      " - 0s - loss: 0.0029\n",
      "Epoch 90/100\n",
      " - 0s - loss: 0.0030\n",
      "Epoch 91/100\n",
      " - 0s - loss: 0.0030\n",
      "Epoch 92/100\n",
      " - 0s - loss: 0.0030\n",
      "Epoch 93/100\n",
      " - 0s - loss: 0.0030\n",
      "Epoch 94/100\n",
      " - 0s - loss: 0.0029\n",
      "Epoch 95/100\n",
      " - 0s - loss: 0.0030\n",
      "Epoch 96/100\n",
      " - 0s - loss: 0.0030\n",
      "Epoch 97/100\n",
      " - 0s - loss: 0.0030\n",
      "Epoch 98/100\n",
      " - 0s - loss: 0.0030\n",
      "Epoch 99/100\n",
      " - 0s - loss: 0.0030\n",
      "Epoch 100/100\n",
      " - 0s - loss: 0.0030\n"
     ]
    },
    {
     "data": {
      "text/plain": [
       "<keras.callbacks.History at 0x2ee7b00ca58>"
      ]
     },
     "execution_count": 195,
     "metadata": {},
     "output_type": "execute_result"
    }
   ],
   "source": [
    "# Create and Fit the LSTM network\n",
    "model = Sequential()\n",
    "model.add(LSTM(4, input_shape=(1, look_back)))\n",
    "model.add(Dense(1))\n",
    "model.compile(loss='mean_squared_error', optimizer='adam')\n",
    "model.fit(X_train, y_train, epochs=100, batch_size=1, verbose=2)"
   ]
  },
  {
   "cell_type": "code",
   "execution_count": 198,
   "metadata": {},
   "outputs": [],
   "source": [
    "# Make predictions\n",
    "trainPredict = model.predict(X_train)\n",
    "testPredict = model.predict(X_test)"
   ]
  },
  {
   "cell_type": "code",
   "execution_count": 199,
   "metadata": {},
   "outputs": [],
   "source": [
    "# Invert predictions\n",
    "trainPredict = scaler.inverse_transform(trainPredict)\n",
    "y_train = scaler.inverse_transform([y_train])\n",
    "testPredict = scaler.inverse_transform(testPredict)\n",
    "y_test = scaler.inverse_transform([y_test])"
   ]
  },
  {
   "cell_type": "code",
   "execution_count": 200,
   "metadata": {},
   "outputs": [
    {
     "name": "stdout",
     "output_type": "stream",
     "text": [
      "Train Score: 27.72 RMSE\n",
      "Test Score: 50.70 RMSE\n"
     ]
    }
   ],
   "source": [
    "# Calculate root mean squared error\n",
    "trainScore = math.sqrt(mean_squared_error(y_train[0], trainPredict[:,0]))\n",
    "print('Train Score: %.2f RMSE' % (trainScore))\n",
    "testScore = math.sqrt(mean_squared_error(y_test[0], testPredict[:,0]))\n",
    "print('Test Score: %.2f RMSE' % (testScore))"
   ]
  },
  {
   "cell_type": "code",
   "execution_count": 211,
   "metadata": {},
   "outputs": [],
   "source": [
    "# Shift train predictions for plotting\n",
    "trainPredictPlot = np.empty_like(data)\n",
    "trainPredictPlot[:, :] = np.nan\n",
    "trainPredictPlot[2:119, :] = trainPredict"
   ]
  },
  {
   "cell_type": "code",
   "execution_count": 212,
   "metadata": {},
   "outputs": [],
   "source": [
    "# Shift test predictions for plotting\n",
    "testPredictPlot = np.empty_like(data)\n",
    "testPredictPlot[:, :] = np.nan\n",
    "testPredictPlot[119:142, :] = testPredict"
   ]
  },
  {
   "cell_type": "code",
   "execution_count": 213,
   "metadata": {},
   "outputs": [
    {
     "data": {
      "image/png": "[encoded data removed]",
      "text/plain": [
       "<matplotlib.figure.Figure at 0x2ee7c7edc50>"
      ]
     },
     "metadata": {},
     "output_type": "display_data"
    }
   ],
   "source": [
    "# Plot baseline and predictions\n",
    "# Colors:\n",
    "# Blue-- Actual Data\n",
    "# Orange-- Forecasting on Training dataset\n",
    "# Gree-- Forecasting on Test dataset\n",
    "plt.plot(scaler.inverse_transform(data))\n",
    "plt.plot(trainPredictPlot)\n",
    "plt.plot(testPredictPlot)\n",
    "plt.show()"
   ]
  }
 ],
 "metadata": {
  "kernelspec": {
   "display_name": "Python 3",
   "language": "python",
   "name": "python3"
  },
  "language_info": {
   "codemirror_mode": {
    "name": "ipython",
    "version": 3
   },
   "file_extension": ".py",
   "mimetype": "text/x-python",
   "name": "python",
   "nbconvert_exporter": "python",
   "pygments_lexer": "ipython3",
   "version": "3.6.4"
  }
 },
 "nbformat": 4,
 "nbformat_minor": 2
}
